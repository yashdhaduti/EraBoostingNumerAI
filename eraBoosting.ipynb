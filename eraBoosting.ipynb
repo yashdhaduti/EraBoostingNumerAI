{
 "cells": [
  {
   "cell_type": "code",
   "execution_count": 1,
   "metadata": {},
   "outputs": [],
   "source": [
    "import numpy as np\n",
    "from sklearn.ensemble import GradientBoostingRegressor\n",
    "import pandas as pd\n",
    "from scipy import stats"
   ]
  },
  {
   "cell_type": "code",
   "execution_count": 2,
   "metadata": {},
   "outputs": [
    {
     "data": {
      "text/html": [
       "<div>\n",
       "<style scoped>\n",
       "    .dataframe tbody tr th:only-of-type {\n",
       "        vertical-align: middle;\n",
       "    }\n",
       "\n",
       "    .dataframe tbody tr th {\n",
       "        vertical-align: top;\n",
       "    }\n",
       "\n",
       "    .dataframe thead th {\n",
       "        text-align: right;\n",
       "    }\n",
       "</style>\n",
       "<table border=\"1\" class=\"dataframe\">\n",
       "  <thead>\n",
       "    <tr style=\"text-align: right;\">\n",
       "      <th></th>\n",
       "      <th>id</th>\n",
       "      <th>era</th>\n",
       "      <th>data_type</th>\n",
       "      <th>feature_intelligence1</th>\n",
       "      <th>feature_intelligence2</th>\n",
       "      <th>feature_intelligence3</th>\n",
       "      <th>feature_intelligence4</th>\n",
       "      <th>feature_intelligence5</th>\n",
       "      <th>feature_intelligence6</th>\n",
       "      <th>feature_intelligence7</th>\n",
       "      <th>...</th>\n",
       "      <th>feature_wisdom38</th>\n",
       "      <th>feature_wisdom39</th>\n",
       "      <th>feature_wisdom40</th>\n",
       "      <th>feature_wisdom41</th>\n",
       "      <th>feature_wisdom42</th>\n",
       "      <th>feature_wisdom43</th>\n",
       "      <th>feature_wisdom44</th>\n",
       "      <th>feature_wisdom45</th>\n",
       "      <th>feature_wisdom46</th>\n",
       "      <th>target</th>\n",
       "    </tr>\n",
       "  </thead>\n",
       "  <tbody>\n",
       "    <tr>\n",
       "      <th>0</th>\n",
       "      <td>n0003aa52cab36c2</td>\n",
       "      <td>era121</td>\n",
       "      <td>validation</td>\n",
       "      <td>0.25</td>\n",
       "      <td>0.75</td>\n",
       "      <td>0.50</td>\n",
       "      <td>0.50</td>\n",
       "      <td>0.0</td>\n",
       "      <td>0.75</td>\n",
       "      <td>0.5</td>\n",
       "      <td>...</td>\n",
       "      <td>0.75</td>\n",
       "      <td>0.75</td>\n",
       "      <td>1.00</td>\n",
       "      <td>0.75</td>\n",
       "      <td>0.50</td>\n",
       "      <td>0.5</td>\n",
       "      <td>1.0</td>\n",
       "      <td>0.00</td>\n",
       "      <td>0.00</td>\n",
       "      <td>0.25</td>\n",
       "    </tr>\n",
       "    <tr>\n",
       "      <th>1</th>\n",
       "      <td>n000920ed083903f</td>\n",
       "      <td>era121</td>\n",
       "      <td>validation</td>\n",
       "      <td>0.75</td>\n",
       "      <td>0.50</td>\n",
       "      <td>0.75</td>\n",
       "      <td>1.00</td>\n",
       "      <td>0.5</td>\n",
       "      <td>0.00</td>\n",
       "      <td>0.0</td>\n",
       "      <td>...</td>\n",
       "      <td>0.50</td>\n",
       "      <td>0.50</td>\n",
       "      <td>0.75</td>\n",
       "      <td>1.00</td>\n",
       "      <td>0.75</td>\n",
       "      <td>0.5</td>\n",
       "      <td>0.5</td>\n",
       "      <td>0.50</td>\n",
       "      <td>0.50</td>\n",
       "      <td>0.50</td>\n",
       "    </tr>\n",
       "    <tr>\n",
       "      <th>2</th>\n",
       "      <td>n0038e640522c4a6</td>\n",
       "      <td>era121</td>\n",
       "      <td>validation</td>\n",
       "      <td>1.00</td>\n",
       "      <td>0.00</td>\n",
       "      <td>0.00</td>\n",
       "      <td>1.00</td>\n",
       "      <td>1.0</td>\n",
       "      <td>1.00</td>\n",
       "      <td>1.0</td>\n",
       "      <td>...</td>\n",
       "      <td>0.00</td>\n",
       "      <td>0.00</td>\n",
       "      <td>0.50</td>\n",
       "      <td>0.25</td>\n",
       "      <td>0.00</td>\n",
       "      <td>0.0</td>\n",
       "      <td>0.5</td>\n",
       "      <td>0.50</td>\n",
       "      <td>0.00</td>\n",
       "      <td>1.00</td>\n",
       "    </tr>\n",
       "    <tr>\n",
       "      <th>3</th>\n",
       "      <td>n004ac94a87dc54b</td>\n",
       "      <td>era121</td>\n",
       "      <td>validation</td>\n",
       "      <td>0.75</td>\n",
       "      <td>1.00</td>\n",
       "      <td>1.00</td>\n",
       "      <td>0.50</td>\n",
       "      <td>0.0</td>\n",
       "      <td>0.00</td>\n",
       "      <td>0.0</td>\n",
       "      <td>...</td>\n",
       "      <td>0.00</td>\n",
       "      <td>0.00</td>\n",
       "      <td>0.00</td>\n",
       "      <td>0.25</td>\n",
       "      <td>0.00</td>\n",
       "      <td>0.0</td>\n",
       "      <td>0.0</td>\n",
       "      <td>0.25</td>\n",
       "      <td>0.25</td>\n",
       "      <td>0.50</td>\n",
       "    </tr>\n",
       "    <tr>\n",
       "      <th>4</th>\n",
       "      <td>n0052fe97ea0c05f</td>\n",
       "      <td>era121</td>\n",
       "      <td>validation</td>\n",
       "      <td>0.25</td>\n",
       "      <td>0.50</td>\n",
       "      <td>0.50</td>\n",
       "      <td>0.25</td>\n",
       "      <td>1.0</td>\n",
       "      <td>0.50</td>\n",
       "      <td>0.5</td>\n",
       "      <td>...</td>\n",
       "      <td>0.50</td>\n",
       "      <td>0.75</td>\n",
       "      <td>0.00</td>\n",
       "      <td>0.00</td>\n",
       "      <td>0.75</td>\n",
       "      <td>1.0</td>\n",
       "      <td>0.0</td>\n",
       "      <td>0.25</td>\n",
       "      <td>1.00</td>\n",
       "      <td>0.75</td>\n",
       "    </tr>\n",
       "  </tbody>\n",
       "</table>\n",
       "<p>5 rows × 314 columns</p>\n",
       "</div>"
      ],
      "text/plain": [
       "                 id     era   data_type  feature_intelligence1  \\\n",
       "0  n0003aa52cab36c2  era121  validation                   0.25   \n",
       "1  n000920ed083903f  era121  validation                   0.75   \n",
       "2  n0038e640522c4a6  era121  validation                   1.00   \n",
       "3  n004ac94a87dc54b  era121  validation                   0.75   \n",
       "4  n0052fe97ea0c05f  era121  validation                   0.25   \n",
       "\n",
       "   feature_intelligence2  feature_intelligence3  feature_intelligence4  \\\n",
       "0                   0.75                   0.50                   0.50   \n",
       "1                   0.50                   0.75                   1.00   \n",
       "2                   0.00                   0.00                   1.00   \n",
       "3                   1.00                   1.00                   0.50   \n",
       "4                   0.50                   0.50                   0.25   \n",
       "\n",
       "   feature_intelligence5  feature_intelligence6  feature_intelligence7  ...  \\\n",
       "0                    0.0                   0.75                    0.5  ...   \n",
       "1                    0.5                   0.00                    0.0  ...   \n",
       "2                    1.0                   1.00                    1.0  ...   \n",
       "3                    0.0                   0.00                    0.0  ...   \n",
       "4                    1.0                   0.50                    0.5  ...   \n",
       "\n",
       "   feature_wisdom38  feature_wisdom39  feature_wisdom40  feature_wisdom41  \\\n",
       "0              0.75              0.75              1.00              0.75   \n",
       "1              0.50              0.50              0.75              1.00   \n",
       "2              0.00              0.00              0.50              0.25   \n",
       "3              0.00              0.00              0.00              0.25   \n",
       "4              0.50              0.75              0.00              0.00   \n",
       "\n",
       "   feature_wisdom42  feature_wisdom43  feature_wisdom44  feature_wisdom45  \\\n",
       "0              0.50               0.5               1.0              0.00   \n",
       "1              0.75               0.5               0.5              0.50   \n",
       "2              0.00               0.0               0.5              0.50   \n",
       "3              0.00               0.0               0.0              0.25   \n",
       "4              0.75               1.0               0.0              0.25   \n",
       "\n",
       "   feature_wisdom46  target  \n",
       "0              0.00    0.25  \n",
       "1              0.50    0.50  \n",
       "2              0.00    1.00  \n",
       "3              0.25    0.50  \n",
       "4              1.00    0.75  \n",
       "\n",
       "[5 rows x 314 columns]"
      ]
     },
     "execution_count": 2,
     "metadata": {},
     "output_type": "execute_result"
    }
   ],
   "source": [
    "df=pd.read_csv(\"numerai_training_data.csv\")\n",
    "df.head()\n",
    "df2=pd.read_csv('numerai_tournament_data.csv')\n",
    "df2.head()"
   ]
  },
  {
   "cell_type": "code",
   "execution_count": 3,
   "metadata": {},
   "outputs": [],
   "source": [
    "features = [c for c in df if c.startswith(\"feature\")]\n",
    "X = df[features]"
   ]
  },
  {
   "cell_type": "code",
   "execution_count": 4,
   "metadata": {
    "scrolled": true
   },
   "outputs": [
    {
     "name": "stdout",
     "output_type": "stream",
     "text": [
      "iteration 0\n",
      "predicting on train\n"
     ]
    },
    {
     "name": "stderr",
     "output_type": "stream",
     "text": [
      "C:\\Users\\yashd\\Anaconda3\\lib\\site-packages\\ipykernel_launcher.py:26: DeprecationWarning: The default dtype for empty Series will be 'object' instead of 'float64' in a future version. Specify a dtype explicitly to silence this warning.\n"
     ]
    },
    {
     "name": "stdout",
     "output_type": "stream",
     "text": [
      "getting per era scores\n",
      "['era68', 'era103', 'era58', 'era69', 'era91', 'era104', 'era60', 'era41', 'era67', 'era85', 'era42', 'era73', 'era9', 'era107', 'era26', 'era112', 'era117', 'era100', 'era27', 'era110', 'era113', 'era66', 'era80', 'era46', 'era31', 'era33', 'era7', 'era74', 'era62', 'era32', 'era14', 'era119', 'era2', 'era3', 'era50', 'era84', 'era82', 'era18', 'era13', 'era75', 'era111', 'era89', 'era55', 'era65', 'era102', 'era87', 'era19', 'era71', 'era114', 'era11', 'era101', 'era106', 'era40', 'era118', 'era21', 'era29', 'era57', 'era79', 'era77', 'era54']\n",
      "performance over time\n"
     ]
    },
    {
     "data": {
      "text/plain": [
       "<Figure size 640x480 with 1 Axes>"
      ]
     },
     "metadata": {},
     "output_type": "display_data"
    },
    {
     "name": "stdout",
     "output_type": "stream",
     "text": [
      "autocorrelation\n",
      "0.09746888081349542\n",
      "mean correlation\n",
      "0.05654293032324128\n",
      "standard deviation\n",
      "0.02855021668576949\n",
      "sharpe\n",
      "1.980472896075231\n",
      "smart sharpe\n",
      "1.789959372105177\n",
      "fitting on worst eras\n",
      "iteration 1\n",
      "predicting on train\n"
     ]
    },
    {
     "name": "stderr",
     "output_type": "stream",
     "text": [
      "C:\\Users\\yashd\\Anaconda3\\lib\\site-packages\\ipykernel_launcher.py:26: DeprecationWarning: The default dtype for empty Series will be 'object' instead of 'float64' in a future version. Specify a dtype explicitly to silence this warning.\n"
     ]
    },
    {
     "name": "stdout",
     "output_type": "stream",
     "text": [
      "getting per era scores\n",
      "['era35', 'era25', 'era34', 'era91', 'era103', 'era6', 'era12', 'era81', 'era115', 'era85', 'era53', 'era41', 'era68', 'era43', 'era19', 'era67', 'era4', 'era56', 'era52', 'era31', 'era98', 'era118', 'era74', 'era61', 'era9', 'era28', 'era37', 'era59', 'era42', 'era116', 'era99', 'era66', 'era94', 'era113', 'era32', 'era75', 'era51', 'era49', 'era109', 'era76', 'era69', 'era45', 'era47', 'era30', 'era93', 'era54', 'era86', 'era117', 'era90', 'era104', 'era63', 'era58', 'era10', 'era14', 'era70', 'era78', 'era39', 'era80', 'era100', 'era57']\n",
      "performance over time\n"
     ]
    },
    {
     "data": {
      "text/plain": [
       "<Figure size 640x480 with 1 Axes>"
      ]
     },
     "metadata": {},
     "output_type": "display_data"
    },
    {
     "name": "stdout",
     "output_type": "stream",
     "text": [
      "autocorrelation\n",
      "0.04164115322069468\n",
      "mean correlation\n",
      "0.06358829085716568\n",
      "standard deviation\n",
      "0.01636944348744398\n",
      "sharpe\n",
      "3.8845725516533567\n",
      "smart sharpe\n",
      "3.7117791398556905\n",
      "fitting on worst eras\n",
      "iteration 2\n",
      "predicting on train\n"
     ]
    },
    {
     "name": "stderr",
     "output_type": "stream",
     "text": [
      "C:\\Users\\yashd\\Anaconda3\\lib\\site-packages\\ipykernel_launcher.py:26: DeprecationWarning: The default dtype for empty Series will be 'object' instead of 'float64' in a future version. Specify a dtype explicitly to silence this warning.\n"
     ]
    },
    {
     "name": "stdout",
     "output_type": "stream",
     "text": [
      "getting per era scores\n",
      "['era91', 'era68', 'era103', 'era60', 'era107', 'era17', 'era119', 'era25', 'era41', 'era69', 'era67', 'era40', 'era35', 'era34', 'era85', 'era7', 'era9', 'era110', 'era32', 'era21', 'era101', 'era55', 'era59', 'era113', 'era33', 'era71', 'era84', 'era97', 'era74', 'era83', 'era114', 'era23', 'era19', 'era42', 'era38', 'era18', 'era116', 'era75', 'era6', 'era66', 'era31', 'era96', 'era3', 'era81', 'era48', 'era118', 'era27', 'era58', 'era44', 'era4', 'era8', 'era89', 'era86', 'era26', 'era52', 'era11', 'era53', 'era112', 'era65', 'era62']\n",
      "performance over time\n"
     ]
    },
    {
     "data": {
      "text/plain": [
       "<Figure size 640x480 with 1 Axes>"
      ]
     },
     "metadata": {},
     "output_type": "display_data"
    },
    {
     "name": "stdout",
     "output_type": "stream",
     "text": [
      "autocorrelation\n",
      "-0.012303615642991834\n",
      "mean correlation\n",
      "0.07031667472827462\n",
      "standard deviation\n",
      "0.01456809821274515\n",
      "sharpe\n",
      "4.8267573228437515\n",
      "smart sharpe\n",
      "4.865611770339042\n",
      "fitting on worst eras\n",
      "iteration 3\n",
      "predicting on train\n"
     ]
    },
    {
     "name": "stderr",
     "output_type": "stream",
     "text": [
      "C:\\Users\\yashd\\Anaconda3\\lib\\site-packages\\ipykernel_launcher.py:26: DeprecationWarning: The default dtype for empty Series will be 'object' instead of 'float64' in a future version. Specify a dtype explicitly to silence this warning.\n"
     ]
    },
    {
     "name": "stdout",
     "output_type": "stream",
     "text": [
      "getting per era scores\n",
      "['era91', 'era103', 'era115', 'era70', 'era68', 'era46', 'era107', 'era74', 'era79', 'era35', 'era41', 'era34', 'era25', 'era77', 'era82', 'era69', 'era60', 'era104', 'era100', 'era85', 'era56', 'era21', 'era28', 'era113', 'era7', 'era58', 'era78', 'era101', 'era43', 'era108', 'era45', 'era3', 'era24', 'era67', 'era119', 'era32', 'era120', 'era9', 'era19', 'era59', 'era49', 'era88', 'era10', 'era40', 'era22', 'era95', 'era29', 'era90', 'era94', 'era37', 'era98', 'era12', 'era57', 'era51', 'era93', 'era66', 'era42', 'era71', 'era110', 'era89']\n",
      "performance over time\n"
     ]
    },
    {
     "data": {
      "text/plain": [
       "<Figure size 640x480 with 1 Axes>"
      ]
     },
     "metadata": {},
     "output_type": "display_data"
    },
    {
     "name": "stdout",
     "output_type": "stream",
     "text": [
      "autocorrelation\n",
      "0.03732059428128948\n",
      "mean correlation\n",
      "0.07214238791017404\n",
      "standard deviation\n",
      "0.010739336199022467\n",
      "sharpe\n",
      "6.717583524086032\n",
      "smart sharpe\n",
      "6.446375084038156\n",
      "fitting on worst eras\n",
      "iteration 4\n",
      "predicting on train\n"
     ]
    },
    {
     "name": "stderr",
     "output_type": "stream",
     "text": [
      "C:\\Users\\yashd\\Anaconda3\\lib\\site-packages\\ipykernel_launcher.py:26: DeprecationWarning: The default dtype for empty Series will be 'object' instead of 'float64' in a future version. Specify a dtype explicitly to silence this warning.\n"
     ]
    },
    {
     "name": "stdout",
     "output_type": "stream",
     "text": [
      "getting per era scores\n",
      "['era91', 'era103', 'era106', 'era68', 'era80', 'era107', 'era60', 'era112', 'era117', 'era21', 'era81', 'era46', 'era54', 'era85', 'era41', 'era74', 'era14', 'era25', 'era50', 'era34', 'era102', 'era97', 'era47', 'era70', 'era84', 'era28', 'era35', 'era31', 'era32', 'era42', 'era55', 'era58', 'era69', 'era20', 'era65', 'era24', 'era114', 'era64', 'era53', 'era101', 'era17', 'era99', 'era11', 'era79', 'era78', 'era27', 'era77', 'era75', 'era115', 'era49', 'era19', 'era116', 'era104', 'era62', 'era89', 'era113', 'era9', 'era36', 'era73', 'era82']\n",
      "performance over time\n"
     ]
    },
    {
     "data": {
      "text/plain": [
       "<Figure size 640x480 with 1 Axes>"
      ]
     },
     "metadata": {},
     "output_type": "display_data"
    },
    {
     "name": "stdout",
     "output_type": "stream",
     "text": [
      "autocorrelation\n",
      "-0.014347167216496357\n",
      "mean correlation\n",
      "0.07526540493977205\n",
      "standard deviation\n",
      "0.008955569268169018\n",
      "sharpe\n",
      "8.404312745063518\n",
      "smart sharpe\n",
      "8.489154885258149\n",
      "fitting on worst eras\n",
      "iteration 5\n",
      "predicting on train\n"
     ]
    },
    {
     "name": "stderr",
     "output_type": "stream",
     "text": [
      "C:\\Users\\yashd\\Anaconda3\\lib\\site-packages\\ipykernel_launcher.py:26: DeprecationWarning: The default dtype for empty Series will be 'object' instead of 'float64' in a future version. Specify a dtype explicitly to silence this warning.\n"
     ]
    },
    {
     "name": "stdout",
     "output_type": "stream",
     "text": [
      "getting per era scores\n",
      "['era91', 'era119', 'era118', 'era74', 'era103', 'era100', 'era68', 'era57', 'era67', 'era112', 'era106', 'era63', 'era3', 'era94', 'era13', 'era34', 'era26', 'era105', 'era15', 'era84', 'era25', 'era59', 'era72', 'era117', 'era83', 'era18', 'era109', 'era80', 'era79', 'era35', 'era86', 'era52', 'era49', 'era30', 'era41', 'era29', 'era54', 'era85', 'era96', 'era101', 'era51', 'era40', 'era61', 'era37', 'era6', 'era23', 'era110', 'era45', 'era7', 'era111', 'era28', 'era75', 'era1', 'era93', 'era20', 'era17', 'era107', 'era60', 'era87', 'era108']\n",
      "performance over time\n"
     ]
    },
    {
     "data": {
      "text/plain": [
       "<Figure size 640x480 with 1 Axes>"
      ]
     },
     "metadata": {},
     "output_type": "display_data"
    },
    {
     "name": "stdout",
     "output_type": "stream",
     "text": [
      "autocorrelation\n",
      "-0.06395485611660848\n",
      "mean correlation\n",
      "0.07593962857711024\n",
      "standard deviation\n",
      "0.008248230497665968\n",
      "sharpe\n",
      "9.206778180920036\n",
      "smart sharpe\n",
      "9.76948013408987\n",
      "fitting on worst eras\n",
      "iteration 6\n",
      "predicting on train\n"
     ]
    },
    {
     "name": "stderr",
     "output_type": "stream",
     "text": [
      "C:\\Users\\yashd\\Anaconda3\\lib\\site-packages\\ipykernel_launcher.py:26: DeprecationWarning: The default dtype for empty Series will be 'object' instead of 'float64' in a future version. Specify a dtype explicitly to silence this warning.\n"
     ]
    },
    {
     "name": "stdout",
     "output_type": "stream",
     "text": [
      "getting per era scores\n",
      "['era68', 'era91', 'era69', 'era50', 'era103', 'era58', 'era57', 'era113', 'era33', 'era115', 'era100', 'era34', 'era56', 'era84', 'era42', 'era67', 'era106', 'era21', 'era27', 'era9', 'era3', 'era32', 'era118', 'era66', 'era19', 'era31', 'era119', 'era114', 'era41', 'era26', 'era8', 'era62', 'era18', 'era85', 'era112', 'era81', 'era46', 'era99', 'era40', 'era89', 'era70', 'era74', 'era117', 'era97', 'era13', 'era12', 'era2', 'era107', 'era54', 'era60', 'era104', 'era38', 'era25', 'era80', 'era95', 'era55', 'era36', 'era63', 'era29', 'era28']\n",
      "performance over time\n"
     ]
    },
    {
     "data": {
      "text/plain": [
       "<Figure size 640x480 with 1 Axes>"
      ]
     },
     "metadata": {},
     "output_type": "display_data"
    },
    {
     "name": "stdout",
     "output_type": "stream",
     "text": [
      "autocorrelation\n",
      "0.12160534132263577\n",
      "mean correlation\n",
      "0.07806429063245783\n",
      "standard deviation\n",
      "0.00847598478253205\n",
      "sharpe\n",
      "9.210055543438282\n",
      "smart sharpe\n",
      "8.124882445361948\n",
      "fitting on worst eras\n",
      "iteration 7\n",
      "predicting on train\n"
     ]
    },
    {
     "name": "stderr",
     "output_type": "stream",
     "text": [
      "C:\\Users\\yashd\\Anaconda3\\lib\\site-packages\\ipykernel_launcher.py:26: DeprecationWarning: The default dtype for empty Series will be 'object' instead of 'float64' in a future version. Specify a dtype explicitly to silence this warning.\n"
     ]
    },
    {
     "name": "stdout",
     "output_type": "stream",
     "text": [
      "getting per era scores\n",
      "['era91', 'era68', 'era103', 'era79', 'era59', 'era26', 'era57', 'era49', 'era35', 'era102', 'era119', 'era34', 'era94', 'era33', 'era8', 'era78', 'era58', 'era113', 'era43', 'era106', 'era120', 'era84', 'era3', 'era93', 'era22', 'era112', 'era114', 'era67', 'era100', 'era90', 'era65', 'era50', 'era18', 'era41', 'era69', 'era115', 'era53', 'era27', 'era25', 'era48', 'era101', 'era81', 'era19', 'era32', 'era118', 'era42', 'era51', 'era40', 'era17', 'era24', 'era15', 'era46', 'era110', 'era73', 'era75', 'era88', 'era74', 'era11', 'era52', 'era9']\n",
      "performance over time\n"
     ]
    },
    {
     "data": {
      "text/plain": [
       "<Figure size 640x480 with 1 Axes>"
      ]
     },
     "metadata": {},
     "output_type": "display_data"
    },
    {
     "name": "stdout",
     "output_type": "stream",
     "text": [
      "autocorrelation\n",
      "0.09375659949574307\n",
      "mean correlation\n",
      "0.07977615927539862\n",
      "standard deviation\n",
      "0.006633237278385096\n",
      "sharpe\n",
      "12.026730829508429\n",
      "smart sharpe\n",
      "10.910260739943249\n",
      "fitting on worst eras\n",
      "iteration 8\n",
      "predicting on train\n"
     ]
    },
    {
     "name": "stderr",
     "output_type": "stream",
     "text": [
      "C:\\Users\\yashd\\Anaconda3\\lib\\site-packages\\ipykernel_launcher.py:26: DeprecationWarning: The default dtype for empty Series will be 'object' instead of 'float64' in a future version. Specify a dtype explicitly to silence this warning.\n"
     ]
    },
    {
     "name": "stdout",
     "output_type": "stream",
     "text": [
      "getting per era scores\n",
      "['era91', 'era68', 'era80', 'era34', 'era89', 'era14', 'era103', 'era54', 'era35', 'era106', 'era12', 'era79', 'era100', 'era84', 'era45', 'era60', 'era119', 'era102', 'era56', 'era78', 'era74', 'era61', 'era109', 'era19', 'era77', 'era3', 'era2', 'era43', 'era59', 'era113', 'era97', 'era94', 'era7', 'era112', 'era49', 'era58', 'era41', 'era27', 'era114', 'era99', 'era51', 'era63', 'era71', 'era21', 'era62', 'era28', 'era40', 'era57', 'era33', 'era85', 'era29', 'era116', 'era66', 'era96', 'era46', 'era67', 'era98', 'era55', 'era104', 'era115']\n",
      "performance over time\n"
     ]
    },
    {
     "data": {
      "text/plain": [
       "<Figure size 640x480 with 1 Axes>"
      ]
     },
     "metadata": {},
     "output_type": "display_data"
    },
    {
     "name": "stdout",
     "output_type": "stream",
     "text": [
      "autocorrelation\n",
      "-0.09338990080488457\n",
      "mean correlation\n",
      "0.0817716201224403\n",
      "standard deviation\n",
      "0.005738372007502115\n",
      "sharpe\n",
      "14.249968460660167\n",
      "smart sharpe\n",
      "15.571602825013661\n",
      "fitting on worst eras\n",
      "iteration 9\n",
      "predicting on train\n"
     ]
    },
    {
     "name": "stderr",
     "output_type": "stream",
     "text": [
      "C:\\Users\\yashd\\Anaconda3\\lib\\site-packages\\ipykernel_launcher.py:26: DeprecationWarning: The default dtype for empty Series will be 'object' instead of 'float64' in a future version. Specify a dtype explicitly to silence this warning.\n"
     ]
    },
    {
     "name": "stdout",
     "output_type": "stream",
     "text": [
      "getting per era scores\n",
      "['era91', 'era81', 'era68', 'era106', 'era69', 'era107', 'era75', 'era103', 'era17', 'era80', 'era54', 'era59', 'era50', 'era44', 'era9', 'era111', 'era89', 'era117', 'era34', 'era110', 'era65', 'era64', 'era18', 'era26', 'era13', 'era32', 'era118', 'era31', 'era14', 'era93', 'era119', 'era42', 'era7', 'era25', 'era84', 'era53', 'era95', 'era58', 'era79', 'era11', 'era78', 'era3', 'era37', 'era120', 'era101', 'era70', 'era41', 'era5', 'era60', 'era76', 'era88', 'era21', 'era113', 'era23', 'era24', 'era2', 'era61', 'era57', 'era49', 'era102']\n",
      "performance over time\n"
     ]
    },
    {
     "data": {
      "text/plain": [
       "<Figure size 640x480 with 1 Axes>"
      ]
     },
     "metadata": {},
     "output_type": "display_data"
    },
    {
     "name": "stdout",
     "output_type": "stream",
     "text": [
      "autocorrelation\n",
      "-0.09168989314326571\n",
      "mean correlation\n",
      "0.08337773072796303\n",
      "standard deviation\n",
      "0.005979155385346122\n",
      "sharpe\n",
      "13.944733888720714\n",
      "smart sharpe\n",
      "15.212173410078451\n",
      "fitting on worst eras\n",
      "iteration 10\n",
      "predicting on train\n"
     ]
    },
    {
     "name": "stderr",
     "output_type": "stream",
     "text": [
      "C:\\Users\\yashd\\Anaconda3\\lib\\site-packages\\ipykernel_launcher.py:26: DeprecationWarning: The default dtype for empty Series will be 'object' instead of 'float64' in a future version. Specify a dtype explicitly to silence this warning.\n"
     ]
    },
    {
     "name": "stdout",
     "output_type": "stream",
     "text": [
      "getting per era scores\n",
      "['era91', 'era68', 'era80', 'era103', 'era36', 'era100', 'era19', 'era34', 'era54', 'era20', 'era7', 'era81', 'era114', 'era77', 'era75', 'era27', 'era69', 'era118', 'era104', 'era51', 'era35', 'era66', 'era94', 'era112', 'era3', 'era73', 'era74', 'era41', 'era62', 'era28', 'era86', 'era97', 'era107', 'era26', 'era58', 'era63', 'era40', 'era109', 'era98', 'era101', 'era38', 'era1', 'era22', 'era9', 'era82', 'era59', 'era93', 'era90', 'era56', 'era89', 'era33', 'era85', 'era67', 'era46', 'era8', 'era65', 'era95', 'era12', 'era45', 'era18']\n",
      "performance over time\n"
     ]
    },
    {
     "data": {
      "text/plain": [
       "<Figure size 640x480 with 1 Axes>"
      ]
     },
     "metadata": {},
     "output_type": "display_data"
    },
    {
     "name": "stdout",
     "output_type": "stream",
     "text": [
      "autocorrelation\n",
      "-0.02302654465448777\n",
      "mean correlation\n",
      "0.08415533762730615\n",
      "standard deviation\n",
      "0.004920611612687717\n",
      "sharpe\n",
      "17.10261736779082\n",
      "smart sharpe\n",
      "17.42465316952374\n",
      "fitting on worst eras\n",
      "iteration 11\n",
      "predicting on train\n"
     ]
    },
    {
     "name": "stderr",
     "output_type": "stream",
     "text": [
      "C:\\Users\\yashd\\Anaconda3\\lib\\site-packages\\ipykernel_launcher.py:26: DeprecationWarning: The default dtype for empty Series will be 'object' instead of 'float64' in a future version. Specify a dtype explicitly to silence this warning.\n"
     ]
    },
    {
     "name": "stdout",
     "output_type": "stream",
     "text": [
      "getting per era scores\n",
      "['era91', 'era68', 'era60', 'era81', 'era19', 'era102', 'era13', 'era42', 'era41', 'era54', 'era17', 'era103', 'era106', 'era96', 'era112', 'era15', 'era27', 'era48', 'era36', 'era107', 'era31', 'era5', 'era40', 'era80', 'era84', 'era32', 'era100', 'era52', 'era75', 'era58', 'era29', 'era59', 'era26', 'era39', 'era117', 'era69', 'era57', 'era111', 'era50', 'era64', 'era44', 'era34', 'era51', 'era119', 'era79', 'era18', 'era35', 'era10', 'era47', 'era115', 'era71', 'era87', 'era120', 'era116', 'era53', 'era70', 'era38', 'era65', 'era55', 'era74']\n",
      "performance over time\n"
     ]
    },
    {
     "data": {
      "text/plain": [
       "<Figure size 640x480 with 1 Axes>"
      ]
     },
     "metadata": {},
     "output_type": "display_data"
    },
    {
     "name": "stdout",
     "output_type": "stream",
     "text": [
      "autocorrelation\n",
      "-0.13552941243485978\n",
      "mean correlation\n",
      "0.08575638148874593\n",
      "standard deviation\n",
      "0.004736095134990859\n",
      "sharpe\n",
      "18.106980338120138\n",
      "smart sharpe\n",
      "20.642099605355963\n",
      "fitting on worst eras\n",
      "iteration 12\n",
      "predicting on train\n"
     ]
    },
    {
     "name": "stderr",
     "output_type": "stream",
     "text": [
      "C:\\Users\\yashd\\Anaconda3\\lib\\site-packages\\ipykernel_launcher.py:26: DeprecationWarning: The default dtype for empty Series will be 'object' instead of 'float64' in a future version. Specify a dtype explicitly to silence this warning.\n"
     ]
    },
    {
     "name": "stdout",
     "output_type": "stream",
     "text": [
      "getting per era scores\n",
      "['era91', 'era68', 'era60', 'era66', 'era85', 'era113', 'era7', 'era118', 'era49', 'era73', 'era3', 'era112', 'era33', 'era89', 'era54', 'era97', 'era19', 'era94', 'era100', 'era77', 'era67', 'era42', 'era22', 'era114', 'era117', 'era103', 'era43', 'era108', 'era1', 'era9', 'era72', 'era104', 'era4', 'era98', 'era90', 'era34', 'era6', 'era99', 'era17', 'era14', 'era74', 'era27', 'era81', 'era41', 'era30', 'era63', 'era115', 'era80', 'era86', 'era46', 'era107', 'era13', 'era95', 'era71', 'era93', 'era102', 'era25', 'era20', 'era58', 'era45']\n",
      "performance over time\n"
     ]
    },
    {
     "data": {
      "text/plain": [
       "<Figure size 640x480 with 1 Axes>"
      ]
     },
     "metadata": {},
     "output_type": "display_data"
    },
    {
     "name": "stdout",
     "output_type": "stream",
     "text": [
      "autocorrelation\n",
      "-0.00935259370628561\n",
      "mean correlation\n",
      "0.0860223239518405\n",
      "standard deviation\n",
      "0.004559082186391032\n",
      "sharpe\n",
      "18.868342450289482\n",
      "smart sharpe\n",
      "18.96464237020403\n",
      "fitting on worst eras\n",
      "iteration 13\n",
      "predicting on train\n"
     ]
    },
    {
     "name": "stderr",
     "output_type": "stream",
     "text": [
      "C:\\Users\\yashd\\Anaconda3\\lib\\site-packages\\ipykernel_launcher.py:26: DeprecationWarning: The default dtype for empty Series will be 'object' instead of 'float64' in a future version. Specify a dtype explicitly to silence this warning.\n"
     ]
    },
    {
     "name": "stdout",
     "output_type": "stream",
     "text": [
      "getting per era scores\n",
      "['era91', 'era68', 'era69', 'era60', 'era59', 'era85', 'era75', 'era79', 'era112', 'era110', 'era117', 'era47', 'era57', 'era2', 'era116', 'era113', 'era106', 'era7', 'era66', 'era89', 'era102', 'era81', 'era70', 'era82', 'era21', 'era54', 'era33', 'era15', 'era29', 'era84', 'era42', 'era94', 'era58', 'era111', 'era56', 'era118', 'era120', 'era17', 'era39', 'era49', 'era3', 'era101', 'era40', 'era1', 'era53', 'era46', 'era50', 'era67', 'era65', 'era119', 'era26', 'era37', 'era93', 'era103', 'era41', 'era11', 'era98', 'era5', 'era32', 'era114']\n",
      "performance over time\n"
     ]
    },
    {
     "data": {
      "text/plain": [
       "<Figure size 640x480 with 1 Axes>"
      ]
     },
     "metadata": {},
     "output_type": "display_data"
    },
    {
     "name": "stdout",
     "output_type": "stream",
     "text": [
      "autocorrelation\n",
      "-0.05548158709341746\n",
      "mean correlation\n",
      "0.08853199858485047\n",
      "standard deviation\n",
      "0.00519280991844073\n",
      "sharpe\n",
      "17.048958073827283\n",
      "smart sharpe\n",
      "17.939052282691677\n",
      "fitting on worst eras\n",
      "iteration 14\n",
      "predicting on train\n"
     ]
    },
    {
     "name": "stderr",
     "output_type": "stream",
     "text": [
      "C:\\Users\\yashd\\Anaconda3\\lib\\site-packages\\ipykernel_launcher.py:26: DeprecationWarning: The default dtype for empty Series will be 'object' instead of 'float64' in a future version. Specify a dtype explicitly to silence this warning.\n"
     ]
    },
    {
     "name": "stdout",
     "output_type": "stream",
     "text": [
      "getting per era scores\n",
      "['era91', 'era68', 'era60', 'era74', 'era100', 'era34', 'era52', 'era85', 'era75', 'era67', 'era110', 'era7', 'era49', 'era97', 'era117', 'era105', 'era57', 'era90', 'era94', 'era9', 'era51', 'era64', 'era80', 'era69', 'era109', 'era113', 'era31', 'era59', 'era3', 'era8', 'era19', 'era84', 'era107', 'era35', 'era88', 'era62', 'era89', 'era83', 'era14', 'era79', 'era2', 'era48', 'era106', 'era81', 'era24', 'era66', 'era58', 'era55', 'era27', 'era61', 'era112', 'era47', 'era41', 'era86', 'era40', 'era42', 'era21', 'era77', 'era104', 'era96']\n",
      "performance over time\n"
     ]
    },
    {
     "data": {
      "text/plain": [
       "<Figure size 640x480 with 1 Axes>"
      ]
     },
     "metadata": {},
     "output_type": "display_data"
    },
    {
     "name": "stdout",
     "output_type": "stream",
     "text": [
      "autocorrelation\n",
      "-0.023002221825314098\n",
      "mean correlation\n",
      "0.088903605564057\n",
      "standard deviation\n",
      "0.004013889258044281\n",
      "sharpe\n",
      "22.148993120795318\n",
      "smart sharpe\n",
      "22.565505689915415\n",
      "fitting on worst eras\n",
      "iteration 15\n",
      "predicting on train\n"
     ]
    },
    {
     "name": "stderr",
     "output_type": "stream",
     "text": [
      "C:\\Users\\yashd\\Anaconda3\\lib\\site-packages\\ipykernel_launcher.py:26: DeprecationWarning: The default dtype for empty Series will be 'object' instead of 'float64' in a future version. Specify a dtype explicitly to silence this warning.\n"
     ]
    },
    {
     "name": "stdout",
     "output_type": "stream",
     "text": [
      "getting per era scores\n",
      "['era91', 'era103', 'era68', 'era33', 'era9', 'era118', 'era85', 'era116', 'era54', 'era63', 'era60', 'era102', 'era26', 'era97', 'era93', 'era56', 'era107', 'era84', 'era117', 'era58', 'era4', 'era69', 'era49', 'era113', 'era3', 'era6', 'era100', 'era82', 'era101', 'era35', 'era90', 'era119', 'era14', 'era46', 'era57', 'era25', 'era23', 'era12', 'era110', 'era34', 'era32', 'era29', 'era78', 'era94', 'era41', 'era98', 'era28', 'era18', 'era42', 'era114', 'era37', 'era87', 'era59', 'era43', 'era104', 'era51', 'era74', 'era39', 'era65', 'era1']\n",
      "performance over time\n"
     ]
    },
    {
     "data": {
      "text/plain": [
       "<Figure size 640x480 with 1 Axes>"
      ]
     },
     "metadata": {},
     "output_type": "display_data"
    },
    {
     "name": "stdout",
     "output_type": "stream",
     "text": [
      "autocorrelation\n",
      "-0.07480249708289118\n",
      "mean correlation\n",
      "0.09010192592046165\n",
      "standard deviation\n",
      "0.004256235687837553\n",
      "sharpe\n",
      "21.16939298684358\n",
      "smart sharpe\n",
      "22.707341854046735\n",
      "fitting on worst eras\n",
      "iteration 16\n",
      "predicting on train\n"
     ]
    },
    {
     "name": "stderr",
     "output_type": "stream",
     "text": [
      "C:\\Users\\yashd\\Anaconda3\\lib\\site-packages\\ipykernel_launcher.py:26: DeprecationWarning: The default dtype for empty Series will be 'object' instead of 'float64' in a future version. Specify a dtype explicitly to silence this warning.\n"
     ]
    },
    {
     "name": "stdout",
     "output_type": "stream",
     "text": [
      "getting per era scores\n",
      "['era91', 'era68', 'era15', 'era31', 'era75', 'era79', 'era71', 'era103', 'era19', 'era33', 'era60', 'era17', 'era116', 'era27', 'era52', 'era118', 'era85', 'era18', 'era41', 'era67', 'era9', 'era112', 'era80', 'era81', 'era93', 'era97', 'era117', 'era70', 'era89', 'era84', 'era107', 'era26', 'era53', 'era110', 'era95', 'era13', 'era38', 'era58', 'era49', 'era63', 'era24', 'era76', 'era88', 'era3', 'era47', 'era21', 'era35', 'era108', 'era119', 'era109', 'era66', 'era57', 'era106', 'era54', 'era55', 'era115', 'era50', 'era104', 'era99', 'era56']\n",
      "performance over time\n"
     ]
    },
    {
     "data": {
      "text/plain": [
       "<Figure size 640x480 with 1 Axes>"
      ]
     },
     "metadata": {},
     "output_type": "display_data"
    },
    {
     "name": "stdout",
     "output_type": "stream",
     "text": [
      "autocorrelation\n",
      "-0.20919721256794413\n",
      "mean correlation\n",
      "0.09079269660065431\n",
      "standard deviation\n",
      "0.003619191420609298\n",
      "sharpe\n",
      "25.08645883819242\n",
      "smart sharpe\n",
      "30.835171754654937\n",
      "fitting on worst eras\n",
      "iteration 17\n",
      "predicting on train\n"
     ]
    },
    {
     "name": "stderr",
     "output_type": "stream",
     "text": [
      "C:\\Users\\yashd\\Anaconda3\\lib\\site-packages\\ipykernel_launcher.py:26: DeprecationWarning: The default dtype for empty Series will be 'object' instead of 'float64' in a future version. Specify a dtype explicitly to silence this warning.\n"
     ]
    },
    {
     "name": "stdout",
     "output_type": "stream",
     "text": [
      "getting per era scores\n",
      "['era91', 'era103', 'era68', 'era113', 'era73', 'era32', 'era31', 'era65', 'era46', 'era74', 'era72', 'era4', 'era69', 'era81', 'era27', 'era34', 'era116', 'era78', 'era90', 'era85', 'era60', 'era75', 'era94', 'era36', 'era71', 'era6', 'era28', 'era7', 'era15', 'era98', 'era9', 'era87', 'era51', 'era80', 'era19', 'era14', 'era49', 'era112', 'era118', 'era59', 'era107', 'era77', 'era52', 'era42', 'era58', 'era117', 'era89', 'era96', 'era37', 'era41', 'era26', 'era21', 'era11', 'era95', 'era18', 'era111', 'era29', 'era67', 'era39', 'era70']\n",
      "performance over time\n"
     ]
    },
    {
     "data": {
      "text/plain": [
       "<Figure size 640x480 with 1 Axes>"
      ]
     },
     "metadata": {},
     "output_type": "display_data"
    },
    {
     "name": "stdout",
     "output_type": "stream",
     "text": [
      "autocorrelation\n",
      "-0.014009247069327204\n",
      "mean correlation\n",
      "0.09134088800006895\n",
      "standard deviation\n",
      "0.0034413025790958505\n",
      "sharpe\n",
      "26.542533212545166\n",
      "smart sharpe\n",
      "26.80149739795898\n",
      "fitting on worst eras\n",
      "iteration 18\n",
      "predicting on train\n"
     ]
    },
    {
     "name": "stderr",
     "output_type": "stream",
     "text": [
      "C:\\Users\\yashd\\Anaconda3\\lib\\site-packages\\ipykernel_launcher.py:26: DeprecationWarning: The default dtype for empty Series will be 'object' instead of 'float64' in a future version. Specify a dtype explicitly to silence this warning.\n"
     ]
    },
    {
     "name": "stdout",
     "output_type": "stream",
     "text": [
      "getting per era scores\n",
      "['era91', 'era103', 'era97', 'era100', 'era84', 'era44', 'era119', 'era32', 'era68', 'era66', 'era101', 'era3', 'era28', 'era50', 'era41', 'era40', 'era114', 'era45', 'era116', 'era43', 'era13', 'era73', 'era99', 'era33', 'era55', 'era110', 'era94', 'era54', 'era57', 'era113', 'era118', 'era35', 'era22', 'era107', 'era105', 'era72', 'era115', 'era71', 'era19', 'era98', 'era6', 'era69', 'era85', 'era49', 'era81', 'era27', 'era48', 'era65', 'era74', 'era117', 'era79', 'era30', 'era25', 'era62', 'era53', 'era8', 'era106', 'era7', 'era31', 'era93']\n",
      "performance over time\n"
     ]
    },
    {
     "data": {
      "text/plain": [
       "<Figure size 640x480 with 1 Axes>"
      ]
     },
     "metadata": {},
     "output_type": "display_data"
    },
    {
     "name": "stdout",
     "output_type": "stream",
     "text": [
      "autocorrelation\n",
      "-0.09614282550600864\n",
      "mean correlation\n",
      "0.09218776127660235\n",
      "standard deviation\n",
      "0.003165104650555621\n",
      "sharpe\n",
      "29.12629168846571\n",
      "smart sharpe\n",
      "31.91543771512601\n",
      "fitting on worst eras\n"
     ]
    }
   ],
   "source": [
    "def ar1(x):\n",
    "    return np.corrcoef(x[:-1], x[1:])[0,1]\n",
    "\n",
    "def autocorr_penalty(x):\n",
    "    n = len(x)\n",
    "    p = ar1(x)\n",
    "    return np.sqrt(1 + 2*np.sum([((n - i)/n)*p**i for i in range(1,n)]))\n",
    "\n",
    "def smart_sharpe(x):\n",
    "    return np.mean(x)/(np.std(x, ddof=1)*autocorr_penalty(x))\n",
    "\n",
    "import matplotlib.pyplot as plt\n",
    "def era_boost_train(X, y, era_col, proportion=0.5, trees_per_step=10, num_iters=200):\n",
    "    model = GradientBoostingRegressor(max_depth=5, learning_rate=0.01, max_features=\"sqrt\", subsample=0.5, n_estimators=trees_per_step, warm_start=(num_iters>1))\n",
    "    features = X.columns\n",
    "    model.fit(X, y)\n",
    "    new_df = X.copy()\n",
    "    new_df[\"target\"] = y\n",
    "    new_df[\"era\"] = era_col\n",
    "    for i in range(num_iters-1):\n",
    "        print(f\"iteration {i}\")\n",
    "        # score each era\n",
    "        print(\"predicting on train\")\n",
    "        preds = model.predict(X)\n",
    "        new_df[\"pred\"] = preds\n",
    "        era_scores = pd.Series(index=new_df[\"era\"].unique())\n",
    "        print(\"getting per era scores\")\n",
    "        for era in new_df[\"era\"].unique():\n",
    "            era_df = new_df[new_df[\"era\"] == era]\n",
    "            era_scores[era] = stats.spearmanr(era_df[\"pred\"], era_df[\"target\"])[0]\n",
    "        era_scores.sort_values(inplace=True)\n",
    "        worst_eras = era_scores[era_scores <= era_scores.quantile(proportion)].index\n",
    "        print(list(worst_eras))\n",
    "        worst_df = new_df[new_df[\"era\"].isin(worst_eras)]\n",
    "        era_scores.sort_index(inplace=True)\n",
    "        era_scores.plot(kind=\"bar\")\n",
    "        print(\"performance over time\")\n",
    "        plt.show()\n",
    "        print(\"autocorrelation\")\n",
    "        print(ar1(era_scores))\n",
    "        print(\"mean correlation\")\n",
    "        print(np.mean(era_scores))\n",
    "        print(\"standard deviation\")\n",
    "        print(np.std(era_scores))\n",
    "        print(\"sharpe\")\n",
    "        print(np.mean(era_scores)/np.std(era_scores))\n",
    "        print(\"smart sharpe\")\n",
    "        print(smart_sharpe(era_scores))\n",
    "        model.n_estimators += trees_per_step\n",
    "        print(\"fitting on worst eras\")\n",
    "        model.fit(worst_df[features], worst_df[\"target\"])\n",
    "    return model\n",
    "\n",
    "boost_model = era_boost_train(X, df[\"target\"], era_col=df[\"era\"], proportion=0.5, trees_per_step=10, num_iters=20)"
   ]
  },
  {
   "cell_type": "code",
   "execution_count": 14,
   "metadata": {},
   "outputs": [
    {
     "data": {
      "text/html": [
       "<div>\n",
       "<style scoped>\n",
       "    .dataframe tbody tr th:only-of-type {\n",
       "        vertical-align: middle;\n",
       "    }\n",
       "\n",
       "    .dataframe tbody tr th {\n",
       "        vertical-align: top;\n",
       "    }\n",
       "\n",
       "    .dataframe thead th {\n",
       "        text-align: right;\n",
       "    }\n",
       "</style>\n",
       "<table border=\"1\" class=\"dataframe\">\n",
       "  <thead>\n",
       "    <tr style=\"text-align: right;\">\n",
       "      <th></th>\n",
       "      <th>id</th>\n",
       "      <th>0</th>\n",
       "    </tr>\n",
       "  </thead>\n",
       "  <tbody>\n",
       "    <tr>\n",
       "      <th>0</th>\n",
       "      <td>n0003aa52cab36c2</td>\n",
       "      <td>0.496328</td>\n",
       "    </tr>\n",
       "    <tr>\n",
       "      <th>1</th>\n",
       "      <td>n000920ed083903f</td>\n",
       "      <td>0.498784</td>\n",
       "    </tr>\n",
       "    <tr>\n",
       "      <th>2</th>\n",
       "      <td>n0038e640522c4a6</td>\n",
       "      <td>0.509976</td>\n",
       "    </tr>\n",
       "    <tr>\n",
       "      <th>3</th>\n",
       "      <td>n004ac94a87dc54b</td>\n",
       "      <td>0.500018</td>\n",
       "    </tr>\n",
       "    <tr>\n",
       "      <th>4</th>\n",
       "      <td>n0052fe97ea0c05f</td>\n",
       "      <td>0.499111</td>\n",
       "    </tr>\n",
       "    <tr>\n",
       "      <th>...</th>\n",
       "      <td>...</td>\n",
       "      <td>...</td>\n",
       "    </tr>\n",
       "    <tr>\n",
       "      <th>1709330</th>\n",
       "      <td>nffe60faae42d3c2</td>\n",
       "      <td>0.501668</td>\n",
       "    </tr>\n",
       "    <tr>\n",
       "      <th>1709331</th>\n",
       "      <td>nffe9b02e07ab272</td>\n",
       "      <td>0.504702</td>\n",
       "    </tr>\n",
       "    <tr>\n",
       "      <th>1709332</th>\n",
       "      <td>nffe9f5eb263211c</td>\n",
       "      <td>0.500847</td>\n",
       "    </tr>\n",
       "    <tr>\n",
       "      <th>1709333</th>\n",
       "      <td>nfff507dae8c8e6c</td>\n",
       "      <td>0.500472</td>\n",
       "    </tr>\n",
       "    <tr>\n",
       "      <th>1709334</th>\n",
       "      <td>nfffababc1a40e36</td>\n",
       "      <td>0.507525</td>\n",
       "    </tr>\n",
       "  </tbody>\n",
       "</table>\n",
       "<p>1709335 rows × 2 columns</p>\n",
       "</div>"
      ],
      "text/plain": [
       "                       id         0\n",
       "0        n0003aa52cab36c2  0.496328\n",
       "1        n000920ed083903f  0.498784\n",
       "2        n0038e640522c4a6  0.509976\n",
       "3        n004ac94a87dc54b  0.500018\n",
       "4        n0052fe97ea0c05f  0.499111\n",
       "...                   ...       ...\n",
       "1709330  nffe60faae42d3c2  0.501668\n",
       "1709331  nffe9b02e07ab272  0.504702\n",
       "1709332  nffe9f5eb263211c  0.500847\n",
       "1709333  nfff507dae8c8e6c  0.500472\n",
       "1709334  nfffababc1a40e36  0.507525\n",
       "\n",
       "[1709335 rows x 2 columns]"
      ]
     },
     "execution_count": 14,
     "metadata": {},
     "output_type": "execute_result"
    }
   ],
   "source": [
    "predictions = pd.Series(boost_model.predict(df2[features]))\n",
    "submission = pd.concat([df2['id'],predictions],axis=1)\n",
    "submission"
   ]
  },
  {
   "cell_type": "code",
   "execution_count": 15,
   "metadata": {},
   "outputs": [],
   "source": [
    "submission.columns = ['id','prediction']"
   ]
  },
  {
   "cell_type": "code",
   "execution_count": 16,
   "metadata": {},
   "outputs": [
    {
     "data": {
      "text/html": [
       "<div>\n",
       "<style scoped>\n",
       "    .dataframe tbody tr th:only-of-type {\n",
       "        vertical-align: middle;\n",
       "    }\n",
       "\n",
       "    .dataframe tbody tr th {\n",
       "        vertical-align: top;\n",
       "    }\n",
       "\n",
       "    .dataframe thead th {\n",
       "        text-align: right;\n",
       "    }\n",
       "</style>\n",
       "<table border=\"1\" class=\"dataframe\">\n",
       "  <thead>\n",
       "    <tr style=\"text-align: right;\">\n",
       "      <th></th>\n",
       "      <th>id</th>\n",
       "      <th>prediction</th>\n",
       "    </tr>\n",
       "  </thead>\n",
       "  <tbody>\n",
       "    <tr>\n",
       "      <th>0</th>\n",
       "      <td>n0003aa52cab36c2</td>\n",
       "      <td>0.496328</td>\n",
       "    </tr>\n",
       "    <tr>\n",
       "      <th>1</th>\n",
       "      <td>n000920ed083903f</td>\n",
       "      <td>0.498784</td>\n",
       "    </tr>\n",
       "    <tr>\n",
       "      <th>2</th>\n",
       "      <td>n0038e640522c4a6</td>\n",
       "      <td>0.509976</td>\n",
       "    </tr>\n",
       "    <tr>\n",
       "      <th>3</th>\n",
       "      <td>n004ac94a87dc54b</td>\n",
       "      <td>0.500018</td>\n",
       "    </tr>\n",
       "    <tr>\n",
       "      <th>4</th>\n",
       "      <td>n0052fe97ea0c05f</td>\n",
       "      <td>0.499111</td>\n",
       "    </tr>\n",
       "    <tr>\n",
       "      <th>...</th>\n",
       "      <td>...</td>\n",
       "      <td>...</td>\n",
       "    </tr>\n",
       "    <tr>\n",
       "      <th>1709330</th>\n",
       "      <td>nffe60faae42d3c2</td>\n",
       "      <td>0.501668</td>\n",
       "    </tr>\n",
       "    <tr>\n",
       "      <th>1709331</th>\n",
       "      <td>nffe9b02e07ab272</td>\n",
       "      <td>0.504702</td>\n",
       "    </tr>\n",
       "    <tr>\n",
       "      <th>1709332</th>\n",
       "      <td>nffe9f5eb263211c</td>\n",
       "      <td>0.500847</td>\n",
       "    </tr>\n",
       "    <tr>\n",
       "      <th>1709333</th>\n",
       "      <td>nfff507dae8c8e6c</td>\n",
       "      <td>0.500472</td>\n",
       "    </tr>\n",
       "    <tr>\n",
       "      <th>1709334</th>\n",
       "      <td>nfffababc1a40e36</td>\n",
       "      <td>0.507525</td>\n",
       "    </tr>\n",
       "  </tbody>\n",
       "</table>\n",
       "<p>1709335 rows × 2 columns</p>\n",
       "</div>"
      ],
      "text/plain": [
       "                       id  prediction\n",
       "0        n0003aa52cab36c2    0.496328\n",
       "1        n000920ed083903f    0.498784\n",
       "2        n0038e640522c4a6    0.509976\n",
       "3        n004ac94a87dc54b    0.500018\n",
       "4        n0052fe97ea0c05f    0.499111\n",
       "...                   ...         ...\n",
       "1709330  nffe60faae42d3c2    0.501668\n",
       "1709331  nffe9b02e07ab272    0.504702\n",
       "1709332  nffe9f5eb263211c    0.500847\n",
       "1709333  nfff507dae8c8e6c    0.500472\n",
       "1709334  nfffababc1a40e36    0.507525\n",
       "\n",
       "[1709335 rows x 2 columns]"
      ]
     },
     "execution_count": 16,
     "metadata": {},
     "output_type": "execute_result"
    }
   ],
   "source": [
    "submission"
   ]
  },
  {
   "cell_type": "code",
   "execution_count": 18,
   "metadata": {},
   "outputs": [],
   "source": [
    "submission.to_csv(\"predictions.csv\",index=False)"
   ]
  },
  {
   "cell_type": "code",
   "execution_count": null,
   "metadata": {},
   "outputs": [],
   "source": []
  }
 ],
 "metadata": {
  "kernelspec": {
   "display_name": "Python 3",
   "language": "python",
   "name": "python3"
  },
  "language_info": {
   "codemirror_mode": {
    "name": "ipython",
    "version": 3
   },
   "file_extension": ".py",
   "mimetype": "text/x-python",
   "name": "python",
   "nbconvert_exporter": "python",
   "pygments_lexer": "ipython3",
   "version": "3.7.4"
  }
 },
 "nbformat": 4,
 "nbformat_minor": 2
}
